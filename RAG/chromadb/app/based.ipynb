{
 "cells": [
  {
   "cell_type": "code",
   "execution_count": 6,
   "metadata": {},
   "outputs": [
    {
     "name": "stdout",
     "output_type": "stream",
     "text": [
      "client file: d:\\Dell\\Documents\\code\\langchain\\RAG\\chromadb\\2023_Annual_Report.pdf\n",
      "1 Dear shareholders, colleagues, customers, and partners,  \n",
      "We are living through a time of historic challenge and opportunity. As I write this, the world faces ongoing economic, social , \n",
      "and geopolitical volatility. At the same time, we have entered a new age of AI that will fundamentally transform productivity  \n",
      "for every individual, organization, and industry on earth, and help us address some of our most pressing challenges.  \n",
      "This next generation of AI will reshape every software category and every business, including our own. Forty -eight years \n",
      "after its founding, Microsoft remains a consequential company because time and time again —from PC/Server, to \n",
      "Web/Internet, to Cloud/Mob ile—we have adapted to technological paradigm shifts. Today, we are doing so once again, as \n",
      "we lead this new era.  \n",
      "Amid this transformation, our mission to empower every person and every organization on the planet to achieve \n",
      "more  remains constant. As a company, we believe we can be the democratizing force for this new generation of technology \n",
      "and the opportunity it will help unlock for every country, community, and individual, while mitigating its risks.  \n",
      "Here are just a few examples of how we are already doing this:  \n",
      "• Leading electronic health records vendor Epic is addressing some of the biggest challenges facing the \n",
      "healthcare industry today —including physician burnout —by deploying a wide range of copilot solutions built on \n",
      "Azure OpenAI Service and Dragon Ambient eX perience Copilot.  \n",
      "• Mercado Libre is reducing the time its developers spend writing code by more than 50  percent with GitHub \n",
      "Copilot, as the company works to democratize e -commerce across Latin America.  \n",
      "• Mercedes -Benz is making its in -car voice assistant more intuitive for hundreds of thousands of drivers using \n",
      "ChatGPT via the Azure OpenAI Service.  \n",
      "• Lumen Technologies is helping its employees be more productive, enabling them to focus on higher value -\n",
      "added activities, by deploying Microsoft 365 Copilot.  \n",
      "• Nonprofit The Contingent is matching foster families with children in need using Dynamics 365, Power BI, and \n",
      "Azure, with an eye on using AI to amplify its work across the US.  \n",
      "• And, Taiwan’s Ministry of Education has built an online platform to help elementary and high school students \n",
      "learn English using Azure AI.  \n",
      "To build on this progress, we remain convicted on three things: First, we will maintain our lead as the top commercial cloud \n",
      "while innovating in consumer categories, from gaming to professional social networks. Second, because we know that \n",
      "maximum enterpri se value gets created during platform shifts like this one, we will invest to accelerate our lead in AI by \n",
      "infusing this technology across every layer of the tech stack. And, finally, we will continue to drive operating leverage, \n",
      "aligning our cost structur e with our revenue growth.  \n",
      "As we make progress on these priorities, we delivered strong results in fiscal year 2023, including a record $211  billion in \n",
      "revenue and over $88  billion in operating income.  \n",
      "A NEW ERA OF AI  \n",
      "There are two breakthroughs coming together to define this new era of AI. The first is the most universal interface: natural \n",
      "language. The long arc of computing has, in many ways, been shaped by the pursuit of increasingly intuitive human -\n",
      "computer interfac es—keyboards, mice, touch screens. We believe we have now arrived at the next big step forward —\n",
      "natural language —and will quickly go beyond, to see, hear, interpret, and make sense of our intent and the world around \n",
      "us.  \n",
      "  \n",
      "The second is the emergence of a powerful new reasoning engine. For years, we’ve digitized daily life, places, and things \n",
      "and organized them into databases. But in a world rich with data, what has been most scarce is our ability to reason over \n",
      "it. This gen eration of AI helps us interact with data in powerful new ways —from completing or summarizing text, to detecting \n",
      "anomalies and recognizing images —to help us identify patterns and surface insights faster than ever.  \n",
      "Together, these two breakthroughs will unlock massive new opportunity. And, in fact, just last month we announced our \n",
      "vision for Copilot, an everyday AI companion. We are building Copilot into all our most used products and experiences and \n",
      "allowing people to summon its power as a standalone app as well. Just like you boot up an OS to access applications or \n",
      "use a browser to visit websites today, our belief is that you will invoke a Copilot to do all those activities and more: to s hop, \n",
      "to code, to analyze, to  learn, to create.\n"
     ]
    }
   ],
   "source": [
    "from pypdf import PdfReader\n",
    "import os\n",
    "\n",
    "# Load the secrets file\n",
    "current_file_path = os.path.abspath(\"based.ipynb\")\n",
    "# print(f\"current file: {current_file_path}\")\n",
    "\n",
    "# Get the parent directory of the current file's directory\n",
    "parent_directory = os.path.dirname(current_file_path)\n",
    "# print(f\"parent file: {parent_directory}\")\n",
    "\n",
    "# Get the parent directory of the parent directory\n",
    "Child_DIR = os.path.dirname(parent_directory)\n",
    "# print(f\"child file: {Child_DIR}\")\n",
    "\n",
    "# Define the path to the client_secret.json file\n",
    "CLIENT_SECRET_FILE = os.path.join(Child_DIR, '2023_Annual_Report.pdf')\n",
    "print(f\"client file: {CLIENT_SECRET_FILE}\")\n",
    "\n",
    "reader = PdfReader(CLIENT_SECRET_FILE)\n",
    "pdf_texts = [p.extract_text().strip() for p in reader.pages]\n",
    "\n",
    "# Filter the empty strings\n",
    "pdf_texts = [text for text in pdf_texts if text]\n",
    "\n",
    "print(pdf_texts[0])\n"
   ]
  },
  {
   "cell_type": "code",
   "execution_count": 7,
   "metadata": {},
   "outputs": [
    {
     "name": "stdout",
     "output_type": "stream",
     "text": [
      "3 Industry  \n",
      "Across industries, we are rapidly becoming the partner of choice for any organization looking to generate real value from \n",
      "AI. In healthcare, for example, we introduced the world’s first fully automated clinical documentation application, DAX \n",
      "Copilot. The a pplication helps physicians reduce documentation time by half, freeing them to spend more time face to face \n",
      "with patients. And Epic will integrate it directly into its electronic health records system.  \n",
      "And, in retail, we introduced new tools to help companies manage their day -to-day operations and digitize their physical \n",
      "stores.  \n",
      "Modern work  \n",
      "We are rapidly evolving Microsoft 365 into an AI -first platform that enables every individual to amplify their creativity and \n",
      "productivity, with both our established applications like Office and Teams, as well as new apps like Designer, Stream, and \n",
      "Loop. M icrosoft 365 is designed for today’s digitally connected, distributed workforce.\n",
      "\n",
      "Total chunks: 344\n"
     ]
    }
   ],
   "source": [
    "from langchain.text_splitter import RecursiveCharacterTextSplitter, SentenceTransformersTokenTextSplitter\n",
    "\n",
    "character_splitter = RecursiveCharacterTextSplitter(\n",
    "    separators=[\"\\n\\n\", \"\\n\", \". \", \" \", \"\"],\n",
    "    chunk_size=1000,\n",
    "    chunk_overlap=0\n",
    ")\n",
    "character_split_texts = character_splitter.split_text('\\n\\n'.join(pdf_texts))\n",
    "\n",
    "print(character_split_texts[10])\n",
    "print(f\"\\nTotal chunks: {len(character_split_texts)}\")"
   ]
  },
  {
   "cell_type": "code",
   "execution_count": 9,
   "metadata": {},
   "outputs": [
    {
     "name": "stdout",
     "output_type": "stream",
     "text": [
      "344\n"
     ]
    }
   ],
   "source": [
    "import chromadb.utils.embedding_functions as embedding_functions\n",
    "# from langchain_openai import OpenAIEmbeddings\n",
    "import chromadb\n",
    "import os\n",
    "\n",
    "OPENAI_API_KEY = os.environ.get(\"OPENAI_API_KEY\")\n",
    "\n",
    "openai_ef = embedding_functions.OpenAIEmbeddingFunction(\n",
    "                api_key=OPENAI_API_KEY,\n",
    "                model_name=\"text-embedding-3-small\"\n",
    "            )\n",
    "\n",
    "chroma_client = chromadb.Client()\n",
    "chroma_collection = chroma_client.create_collection(\"2023_annual_reports\", embedding_function=openai_ef)\n",
    "\n",
    "ids = [str(i) for i in range(len(character_split_texts))]\n",
    "\n",
    "chroma_collection.add(ids=ids, documents=character_split_texts)\n",
    "print(chroma_collection.count())\n"
   ]
  },
  {
   "cell_type": "code",
   "execution_count": 11,
   "metadata": {},
   "outputs": [
    {
     "name": "stdout",
     "output_type": "stream",
     "text": [
      "Year Ended June  30, 2023  2022  2021  \n",
      "        \n",
      "United States (a) $ 106,744   $ 100,218   $ 83,953   \n",
      "Other countries   105,171    98,052    84,135         \n",
      "Total  $  211,915   $  198,270   $  168,088           \n",
      "(a) Includes billings to OEMs and certain multinational organizations because of the nature of these businesses and the \n",
      "impracticability of determining the geographic source of the revenue.  \n",
      "Revenue, classified by significant product and service offerings, was as follows:  \n",
      "  \n",
      "(In millions)          \n",
      "        \n",
      "Year Ended June  30, 2023  2022  2021  \n",
      "        \n",
      "Server products and cloud services  $ 79,970   $ 67,350   $ 52,589   \n",
      "Office products and cloud services   48,728    44,862    39,872   \n",
      "Windows   21,507    24,732    22,488   \n",
      "Gaming   15,466    16,230    15,370   \n",
      "LinkedIn   15,145    13,816    10,289   \n",
      "Search and news advertising   12,208    11,591    9,267   \n",
      "Enterprise Services   7,722    7,407    6,943   \n",
      "Devices   5,521    7,306    7,143\n",
      "\n",
      "\n",
      "and expenses are translated at average rates of exchange prevailing during the year. Translation adjustments resulting \n",
      "from this pr ocess are recorded to other comprehensive income.  \n",
      "Revenue  \n",
      "Product Revenue and Service and Other Revenue  \n",
      "Product revenue includes sales from operating systems, cross -device productivity and collaboration applications, server \n",
      "applications, business solution applications, desktop and server management tools, software development tools, video \n",
      "games, and hardware  such as PCs, tablets, gaming and entertainment consoles, other intelligent devices, and related \n",
      "accessories.  \n",
      "  \n",
      "Service and other revenue includes sales from cloud -based solutions that provide customers with software, services, \n",
      "platforms, and content such as Office 365, Azure, Dynamics 365, and Xbox; solution support; and consulting services. \n",
      "Service and other reven ue also includes sales from online advertising and LinkedIn.\n",
      "\n",
      "\n"
     ]
    }
   ],
   "source": [
    "query = \"What was the total revenue?\"\n",
    "\n",
    "results = chroma_collection.query(query_texts=[query], n_results=2)\n",
    "retrieved_documents = results['documents'][0]\n",
    "\n",
    "for document in retrieved_documents:\n",
    "    print(document)\n",
    "    print('\\n')"
   ]
  },
  {
   "cell_type": "code",
   "execution_count": 13,
   "metadata": {},
   "outputs": [],
   "source": [
    "import os\n",
    "from langchain_openai import ChatOpenAI\n",
    "\n",
    "from dotenv import load_dotenv, find_dotenv\n",
    "_ = load_dotenv(find_dotenv()) # read local .env file\n",
    "\n",
    "llm = ChatOpenAI(model=\"gpt-4o-mini\", api_key=os.environ.get(\"OPENAI_API_KEY\"))"
   ]
  },
  {
   "cell_type": "code",
   "execution_count": 14,
   "metadata": {},
   "outputs": [],
   "source": [
    "def rag(query, retrieved_documents):\n",
    "    information = \"\\n\\n\".join(retrieved_documents)\n",
    "\n",
    "    messages = [\n",
    "        {\n",
    "            \"role\": \"system\",\n",
    "            \"content\": \"You are a helpful expert financial research assistant. Your users are asking questions about information contained in an annual report.\"\n",
    "            \"You will be shown the user's question, and the relevant information from the annual report. Answer the user's question using only this information.\"\n",
    "        },\n",
    "        {\"role\": \"user\", \"content\": f\"Question: {query}. \\n Information: {information}\"}\n",
    "    ]\n",
    "    \n",
    "    response = llm.invoke(messages)\n",
    "    content = response.content\n",
    "    return content"
   ]
  },
  {
   "cell_type": "code",
   "execution_count": 15,
   "metadata": {},
   "outputs": [
    {
     "name": "stdout",
     "output_type": "stream",
     "text": [
      "The total revenue for the year ended June 30, 2023, was $211,915 million.\n"
     ]
    }
   ],
   "source": [
    "output = rag(query=query, retrieved_documents=retrieved_documents)\n",
    "\n",
    "print(output)"
   ]
  },
  {
   "cell_type": "code",
   "execution_count": null,
   "metadata": {},
   "outputs": [],
   "source": []
  }
 ],
 "metadata": {
  "kernelspec": {
   "display_name": "open-service-uQHKusx_-py3.12",
   "language": "python",
   "name": "python3"
  },
  "language_info": {
   "codemirror_mode": {
    "name": "ipython",
    "version": 3
   },
   "file_extension": ".py",
   "mimetype": "text/x-python",
   "name": "python",
   "nbconvert_exporter": "python",
   "pygments_lexer": "ipython3",
   "version": "3.12.4"
  }
 },
 "nbformat": 4,
 "nbformat_minor": 2
}
