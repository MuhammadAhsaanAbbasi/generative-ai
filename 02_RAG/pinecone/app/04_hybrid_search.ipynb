{
 "cells": [
  {
   "cell_type": "code",
   "execution_count": 1,
   "metadata": {},
   "outputs": [],
   "source": [
    "from langchain_community.retrievers import PineconeHybridSearchRetriever\n",
    "from langchain_huggingface.embeddings import  HuggingFaceEmbeddings\n",
    "from langchain_huggingface import HuggingFaceEndpoint\n",
    "from langchain_huggingface.chat_models import ChatHuggingFace\n",
    "from dotenv import load_dotenv\n",
    "import os\n",
    "\n",
    "load_dotenv()\n",
    "PINECONE_API_KEY = os.getenv(\"PINECONE_API_KEY\")\n",
    "HUGGINGFACE_TOKEN = os.getenv(\"HUGGINGFACE_TOKEN\")"
   ]
  },
  {
   "cell_type": "code",
   "execution_count": 2,
   "metadata": {},
   "outputs": [
    {
     "name": "stderr",
     "output_type": "stream",
     "text": [
      "c:\\Users\\Fine Gallery\\AppData\\Local\\pypoetry\\Cache\\virtualenvs\\langchain-series-qPBCIoeo-py3.12\\Lib\\site-packages\\tqdm\\auto.py:21: TqdmWarning: IProgress not found. Please update jupyter and ipywidgets. See https://ipywidgets.readthedocs.io/en/stable/user_install.html\n",
      "  from .autonotebook import tqdm as notebook_tqdm\n"
     ]
    },
    {
     "data": {
      "text/plain": [
       "HuggingFaceEmbeddings(model_name='sentence-transformers/all-MiniLM-L6-v2', cache_folder=None, model_kwargs={}, encode_kwargs={}, multi_process=False, show_progress=False)"
      ]
     },
     "execution_count": 2,
     "metadata": {},
     "output_type": "execute_result"
    }
   ],
   "source": [
    "embedding = HuggingFaceEmbeddings(model_name=\"sentence-transformers/all-MiniLM-L6-v2\")\n",
    "embedding"
   ]
  },
  {
   "cell_type": "code",
   "execution_count": 3,
   "metadata": {},
   "outputs": [],
   "source": [
    "llm = HuggingFaceEndpoint(\n",
    "                repo_id=\"mistralai/Mistral-7B-Instruct-v0.3\",\n",
    "                task=\"text-generation\",\n",
    "                max_new_tokens=512,\n",
    "                do_sample=False,\n",
    "                repetition_penalty=1.03,\n",
    "                huggingfacehub_api_token=str(HUGGINGFACE_TOKEN), #HUGGINGFACE_TOKEN,\n",
    "            )\n",
    "\n",
    "chat = ChatHuggingFace(llm=llm, verbose=True)"
   ]
  },
  {
   "cell_type": "code",
   "execution_count": 4,
   "metadata": {},
   "outputs": [
    {
     "name": "stdout",
     "output_type": "stream",
     "text": [
      "316\n"
     ]
    }
   ],
   "source": [
    "from langchain.text_splitter import RecursiveCharacterTextSplitter\n",
    "from langchain.document_loaders import PyPDFDirectoryLoader\n",
    "\n",
    "# # Define the Directory Containing the Text Files & persistent Directory\n",
    "# current_dir = os.path.dirname(os.path.abspath(\"04_hybrid_search.ipynb\"))\n",
    "# book_dir  = os.path.join(current_dir, \"books\")\n",
    "\n",
    "# print(book_dir)\n",
    "# if not os.path.exists(book_dir):\n",
    "#     raise FileExistsError(f\"Directory {book_dir} does not exist.\")\n",
    "\n",
    "loader = PyPDFDirectoryLoader(\"../books\")\n",
    "text_splitter = RecursiveCharacterTextSplitter(chunk_size=1000, chunk_overlap=200)\n",
    "docs = loader.load()\n",
    "docs = text_splitter.split_documents(docs)\n",
    "print(len(docs))"
   ]
  },
  {
   "cell_type": "code",
   "execution_count": 19,
   "metadata": {},
   "outputs": [],
   "source": [
    "from pinecone import Pinecone, ServerlessSpec\n",
    "\n",
    "INDEX_NAME = \"hybrid-search\"\n",
    "pc = Pinecone(api_key=PINECONE_API_KEY)\n",
    "\n",
    "if INDEX_NAME not in pc.list_indexes().names():\n",
    "    pc.create_index(\n",
    "        name=INDEX_NAME,\n",
    "        dimension=384,\n",
    "        metric=\"dotproduct\",\n",
    "        spec=ServerlessSpec(\n",
    "            cloud=\"aws\",\n",
    "            region=\"us-east-1\"\n",
    "        )\n",
    "    )\n"
   ]
  },
  {
   "cell_type": "code",
   "execution_count": 20,
   "metadata": {},
   "outputs": [
    {
     "data": {
      "text/plain": [
       "<pinecone.data.index.Index at 0x2619db11ee0>"
      ]
     },
     "execution_count": 20,
     "metadata": {},
     "output_type": "execute_result"
    }
   ],
   "source": [
    "index_name = pc.Index(INDEX_NAME)\n",
    "\n",
    "index_name"
   ]
  },
  {
   "cell_type": "code",
   "execution_count": 9,
   "metadata": {},
   "outputs": [
    {
     "data": {
      "text/plain": [
       "<pinecone_text.sparse.bm25_encoder.BM25Encoder at 0x2619e3a0c80>"
      ]
     },
     "execution_count": 9,
     "metadata": {},
     "output_type": "execute_result"
    }
   ],
   "source": [
    "from pinecone_text.sparse import BM25Encoder\n",
    "\n",
    "bm25encoder = BM25Encoder().default()\n",
    "bm25encoder"
   ]
  },
  {
   "cell_type": "code",
   "execution_count": 13,
   "metadata": {},
   "outputs": [
    {
     "name": "stderr",
     "output_type": "stream",
     "text": [
      "[nltk_data] Downloading package punkt_tab to C:\\Users\\Fine\n",
      "[nltk_data]     Gallery\\AppData\\Roaming\\nltk_data...\n",
      "[nltk_data]   Unzipping tokenizers\\punkt_tab.zip.\n"
     ]
    },
    {
     "data": {
      "text/plain": [
       "True"
      ]
     },
     "execution_count": 13,
     "metadata": {},
     "output_type": "execute_result"
    }
   ],
   "source": [
    "import nltk\n",
    "nltk.download('punkt_tab')"
   ]
  },
  {
   "cell_type": "code",
   "execution_count": 14,
   "metadata": {},
   "outputs": [
    {
     "name": "stderr",
     "output_type": "stream",
     "text": [
      "100%|██████████| 316/316 [00:03<00:00, 90.52it/s] \n"
     ]
    }
   ],
   "source": [
    "# Extract text from the documents (assuming each document has a 'page_content' attribute)\n",
    "corpus = [doc.page_content for doc in docs]\n",
    "\n",
    "# Now, you can fit the encoder with the corpus (list of strings)\n",
    "bm25encoder.fit(corpus)\n",
    "\n",
    "bm25encoder.dump(\"bm25_values.json\")\n",
    "\n",
    "bm25encoder = BM25Encoder().load(\"bm25_values.json\")"
   ]
  },
  {
   "cell_type": "code",
   "execution_count": 21,
   "metadata": {},
   "outputs": [
    {
     "data": {
      "text/plain": [
       "PineconeHybridSearchRetriever(embeddings=HuggingFaceEmbeddings(model_name='sentence-transformers/all-MiniLM-L6-v2', cache_folder=None, model_kwargs={}, encode_kwargs={}, multi_process=False, show_progress=False), sparse_encoder=<pinecone_text.sparse.bm25_encoder.BM25Encoder object at 0x000002619F3AD2B0>, index=<pinecone.data.index.Index object at 0x000002619DB11EE0>)"
      ]
     },
     "execution_count": 21,
     "metadata": {},
     "output_type": "execute_result"
    }
   ],
   "source": [
    "retriever = PineconeHybridSearchRetriever(index=index_name, embeddings=embedding, sparse_encoder=bm25encoder)\n",
    "retriever"
   ]
  },
  {
   "cell_type": "code",
   "execution_count": 22,
   "metadata": {},
   "outputs": [
    {
     "name": "stderr",
     "output_type": "stream",
     "text": [
      "  0%|          | 0/10 [00:00<?, ?it/s]"
     ]
    },
    {
     "name": "stderr",
     "output_type": "stream",
     "text": [
      "100%|██████████| 10/10 [01:17<00:00,  7.72s/it]\n"
     ]
    }
   ],
   "source": [
    "retriever.add_texts(corpus)"
   ]
  },
  {
   "cell_type": "code",
   "execution_count": 23,
   "metadata": {},
   "outputs": [
    {
     "data": {
      "text/plain": [
       "[Document(metadata={'score': 0.731581748}, page_content='from the ACS and how they differ \\nfrom those based on the CPS \\nASEC, SIPP, and SAIPE, refer \\nto the information and survey \\ncomparisons at <www.census.gov/\\ntopics/income-poverty/poverty/\\nguidance/data-sources.html>.\\nWHAT IS THE AMERICAN COMMUNITY SURVEY?\\nThe American Community Survey (ACS) is a nationwide survey \\ndesigned to provide communities with reliable and timely \\ndemographic, social, economic, and housing data for the nation, \\nstates, congressional districts, counties, places, and other localities \\nevery year. It has an annual sample size of about 3.5 million \\naddresses across the United States and Puerto Rico and includes \\nboth housing units and group quarters (e.g., nursing facilities and \\nprisons).1 The ACS is conducted in every county throughout the \\nnation and every municipio in Puerto Rico, where it is called the \\nPuerto Rico Community Survey. Beginning in 2006, ACS 1-year data \\nhave been released annually for geographic areas with populations of'),\n",
       " Document(metadata={'score': 0.728830397}, page_content='sources. The key purpose of the \\nCPS ASEC is to provide timely and \\ndetailed estimates of income and \\nto measure change in national-\\nlevel estimates. The CPS ASEC \\nis the official source of national \\npoverty estimates. For more infor-\\nmation from the CPS ASEC about \\nnational income estimates, refer to \\nthe report “Income in the United \\nStates: 2022.”\\nFor information on income esti-\\nmates from the ACS and how they \\ndiffer from those based on the \\nCPS ASEC, refer to “Fact Sheet: \\nDifferences Between the American \\nCommunity Survey and the Annual \\nSocial and Economic Supplement \\nto the Current Population Survey \\n(CPS ASEC).”\\nWHAT IS THE AMERICAN COMMUNITY SURVEY?\\nThe American Community Survey (ACS) is a nationwide survey designed to provide reliable and timely \\ndemographic, social, economic, and housing data for the nation, states, congressional districts, counties, \\nplaces, and other localities every year. It has an annual sample size of about 3.5 million addresses across'),\n",
       " Document(metadata={'score': 0.670882}, page_content='can also indicate whether they were unemployed or away from a specified job at any point during the year. \\nThe 2018 SIPP data used in this report reference the 2017 calendar year. For more information, visit the \\nSIPP website at <www.census.gov/sipp>. Additional information about how the SIPP collects summary \\ncharacteristics is available online at <www.census.gov/programs-surveys/sipp/tech-documentation/user-\\nnotes/2018-usernotes/2018-other-jobs-section.html>.\\nThe American Community Survey\\nThe American Community Survey (ACS) is an annual survey administered to over 3.5 million addresses \\nacross the United States (including Puerto Rico) that collects information on the nation’s demographics, \\nhousing, and employment. In contrast with the SIPP, the ACS only asks workers about their current or most \\nrecent job. If ACS workers hold two or more jobs concurrently, they are asked only to describe the job at'),\n",
       " Document(metadata={'score': 0.637474775}, page_content='Note: For information on confidentiality protection, sampling error, nonsampling error, and definitions refer to <www.census.gov/programs-surveys/acs/technical-\\ndocumentation/code-lists.html>.\\nSource: U.S. Census Bureau, 2021 and 2022 American Community Survey, 1-year estimates, and 2021 and 2022 Puerto Rico Community Survey.')]"
      ]
     },
     "execution_count": 23,
     "metadata": {},
     "output_type": "execute_result"
    }
   ],
   "source": [
    "retriever.invoke(\"WHAT IS THE AMERICAN COMMUNITY SURVEY?\")"
   ]
  }
 ],
 "metadata": {
  "kernelspec": {
   "display_name": "langchain-series-qPBCIoeo-py3.12",
   "language": "python",
   "name": "python3"
  },
  "language_info": {
   "codemirror_mode": {
    "name": "ipython",
    "version": 3
   },
   "file_extension": ".py",
   "mimetype": "text/x-python",
   "name": "python",
   "nbconvert_exporter": "python",
   "pygments_lexer": "ipython3",
   "version": "3.12.8"
  }
 },
 "nbformat": 4,
 "nbformat_minor": 2
}
